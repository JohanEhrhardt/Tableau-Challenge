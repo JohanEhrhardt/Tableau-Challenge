{
 "cells": [
  {
   "cell_type": "code",
   "execution_count": 1,
   "metadata": {},
   "outputs": [],
   "source": [
    "# Add dependencies\n",
    "import glob\n",
    "import pandas as pd"
   ]
  },
  {
   "cell_type": "code",
   "execution_count": 2,
   "metadata": {},
   "outputs": [],
   "source": [
    "# glob.glob('data*.csv') - returns List[str]\n",
    "# pd.read_csv(f) - returns pd.DataFrame()\n",
    "# for f in glob.glob() - returns a List[DataFrames]\n",
    "# pd.concat() - returns one pd.DataFrame()\n",
    "clean_data_trip = pd.concat([pd.read_csv(f) for f in glob.glob('raw_data/CitiBikeTripHistories/*.csv')], ignore_index = True)"
   ]
  },
  {
   "cell_type": "code",
   "execution_count": 3,
   "metadata": {},
   "outputs": [
    {
     "data": {
      "text/html": [
       "<div>\n",
       "<style scoped>\n",
       "    .dataframe tbody tr th:only-of-type {\n",
       "        vertical-align: middle;\n",
       "    }\n",
       "\n",
       "    .dataframe tbody tr th {\n",
       "        vertical-align: top;\n",
       "    }\n",
       "\n",
       "    .dataframe thead th {\n",
       "        text-align: right;\n",
       "    }\n",
       "</style>\n",
       "<table border=\"1\" class=\"dataframe\">\n",
       "  <thead>\n",
       "    <tr style=\"text-align: right;\">\n",
       "      <th></th>\n",
       "      <th>ride_id</th>\n",
       "      <th>rideable_type</th>\n",
       "      <th>started_at</th>\n",
       "      <th>ended_at</th>\n",
       "      <th>start_station_name</th>\n",
       "      <th>start_station_id</th>\n",
       "      <th>end_station_name</th>\n",
       "      <th>end_station_id</th>\n",
       "      <th>start_lat</th>\n",
       "      <th>start_lng</th>\n",
       "      <th>end_lat</th>\n",
       "      <th>end_lng</th>\n",
       "      <th>member_casual</th>\n",
       "    </tr>\n",
       "  </thead>\n",
       "  <tbody>\n",
       "    <tr>\n",
       "      <th>0</th>\n",
       "      <td>CA5837152804D4B5</td>\n",
       "      <td>electric_bike</td>\n",
       "      <td>2022-01-26 18:50:39</td>\n",
       "      <td>2022-01-26 18:51:53</td>\n",
       "      <td>12 St &amp; Sinatra Dr N</td>\n",
       "      <td>HB201</td>\n",
       "      <td>12 St &amp; Sinatra Dr N</td>\n",
       "      <td>HB201</td>\n",
       "      <td>40.750604</td>\n",
       "      <td>-74.024020</td>\n",
       "      <td>40.750604</td>\n",
       "      <td>-74.024020</td>\n",
       "      <td>member</td>\n",
       "    </tr>\n",
       "    <tr>\n",
       "      <th>1</th>\n",
       "      <td>BA06A5E45B6601D2</td>\n",
       "      <td>classic_bike</td>\n",
       "      <td>2022-01-28 13:14:07</td>\n",
       "      <td>2022-01-28 13:20:23</td>\n",
       "      <td>Essex Light Rail</td>\n",
       "      <td>JC038</td>\n",
       "      <td>Essex Light Rail</td>\n",
       "      <td>JC038</td>\n",
       "      <td>40.712774</td>\n",
       "      <td>-74.036486</td>\n",
       "      <td>40.712774</td>\n",
       "      <td>-74.036486</td>\n",
       "      <td>member</td>\n",
       "    </tr>\n",
       "    <tr>\n",
       "      <th>2</th>\n",
       "      <td>7B6827D7B9508D93</td>\n",
       "      <td>classic_bike</td>\n",
       "      <td>2022-01-10 19:55:13</td>\n",
       "      <td>2022-01-10 20:00:37</td>\n",
       "      <td>Essex Light Rail</td>\n",
       "      <td>JC038</td>\n",
       "      <td>Essex Light Rail</td>\n",
       "      <td>JC038</td>\n",
       "      <td>40.712774</td>\n",
       "      <td>-74.036486</td>\n",
       "      <td>40.712774</td>\n",
       "      <td>-74.036486</td>\n",
       "      <td>member</td>\n",
       "    </tr>\n",
       "    <tr>\n",
       "      <th>3</th>\n",
       "      <td>6E5864EA6FCEC90D</td>\n",
       "      <td>electric_bike</td>\n",
       "      <td>2022-01-26 07:54:57</td>\n",
       "      <td>2022-01-26 07:55:22</td>\n",
       "      <td>12 St &amp; Sinatra Dr N</td>\n",
       "      <td>HB201</td>\n",
       "      <td>12 St &amp; Sinatra Dr N</td>\n",
       "      <td>HB201</td>\n",
       "      <td>40.750604</td>\n",
       "      <td>-74.024020</td>\n",
       "      <td>40.750604</td>\n",
       "      <td>-74.024020</td>\n",
       "      <td>member</td>\n",
       "    </tr>\n",
       "    <tr>\n",
       "      <th>4</th>\n",
       "      <td>E24954255BBDE32D</td>\n",
       "      <td>electric_bike</td>\n",
       "      <td>2022-01-13 18:44:46</td>\n",
       "      <td>2022-01-13 18:45:43</td>\n",
       "      <td>12 St &amp; Sinatra Dr N</td>\n",
       "      <td>HB201</td>\n",
       "      <td>12 St &amp; Sinatra Dr N</td>\n",
       "      <td>HB201</td>\n",
       "      <td>40.750604</td>\n",
       "      <td>-74.024020</td>\n",
       "      <td>40.750604</td>\n",
       "      <td>-74.024020</td>\n",
       "      <td>member</td>\n",
       "    </tr>\n",
       "  </tbody>\n",
       "</table>\n",
       "</div>"
      ],
      "text/plain": [
       "            ride_id  rideable_type           started_at             ended_at  \\\n",
       "0  CA5837152804D4B5  electric_bike  2022-01-26 18:50:39  2022-01-26 18:51:53   \n",
       "1  BA06A5E45B6601D2   classic_bike  2022-01-28 13:14:07  2022-01-28 13:20:23   \n",
       "2  7B6827D7B9508D93   classic_bike  2022-01-10 19:55:13  2022-01-10 20:00:37   \n",
       "3  6E5864EA6FCEC90D  electric_bike  2022-01-26 07:54:57  2022-01-26 07:55:22   \n",
       "4  E24954255BBDE32D  electric_bike  2022-01-13 18:44:46  2022-01-13 18:45:43   \n",
       "\n",
       "     start_station_name start_station_id      end_station_name end_station_id  \\\n",
       "0  12 St & Sinatra Dr N            HB201  12 St & Sinatra Dr N          HB201   \n",
       "1      Essex Light Rail            JC038      Essex Light Rail          JC038   \n",
       "2      Essex Light Rail            JC038      Essex Light Rail          JC038   \n",
       "3  12 St & Sinatra Dr N            HB201  12 St & Sinatra Dr N          HB201   \n",
       "4  12 St & Sinatra Dr N            HB201  12 St & Sinatra Dr N          HB201   \n",
       "\n",
       "   start_lat  start_lng    end_lat    end_lng member_casual  \n",
       "0  40.750604 -74.024020  40.750604 -74.024020        member  \n",
       "1  40.712774 -74.036486  40.712774 -74.036486        member  \n",
       "2  40.712774 -74.036486  40.712774 -74.036486        member  \n",
       "3  40.750604 -74.024020  40.750604 -74.024020        member  \n",
       "4  40.750604 -74.024020  40.750604 -74.024020        member  "
      ]
     },
     "execution_count": 3,
     "metadata": {},
     "output_type": "execute_result"
    }
   ],
   "source": [
    "clean_data_trip.head()"
   ]
  },
  {
   "cell_type": "code",
   "execution_count": 4,
   "metadata": {},
   "outputs": [
    {
     "data": {
      "text/plain": [
       "ride_id               58673\n",
       "rideable_type         58673\n",
       "started_at            58673\n",
       "ended_at              58673\n",
       "start_station_name    58673\n",
       "start_station_id      58673\n",
       "end_station_name      58154\n",
       "end_station_id        58154\n",
       "start_lat             58673\n",
       "start_lng             58673\n",
       "end_lat               58419\n",
       "end_lng               58419\n",
       "member_casual         58673\n",
       "dtype: int64"
      ]
     },
     "execution_count": 4,
     "metadata": {},
     "output_type": "execute_result"
    }
   ],
   "source": [
    "clean_data_trip.count()"
   ]
  },
  {
   "cell_type": "code",
   "execution_count": 5,
   "metadata": {},
   "outputs": [],
   "source": [
    "# Export to csv\n",
    "clean_data_trip.to_csv(\"clean_data/clean_data_2017.csv\")"
   ]
  }
 ],
 "metadata": {
  "kernelspec": {
   "display_name": "Python 3.7.13 ('bootcamp')",
   "language": "python",
   "name": "python3"
  },
  "language_info": {
   "codemirror_mode": {
    "name": "ipython",
    "version": 3
   },
   "file_extension": ".py",
   "mimetype": "text/x-python",
   "name": "python",
   "nbconvert_exporter": "python",
   "pygments_lexer": "ipython3",
   "version": "3.7.13"
  },
  "orig_nbformat": 4,
  "vscode": {
   "interpreter": {
    "hash": "98c42bd800c0def929fe5fbc51a51dbf9983246cc50d6d6d1d0f0e7f101cd5b1"
   }
  }
 },
 "nbformat": 4,
 "nbformat_minor": 2
}
